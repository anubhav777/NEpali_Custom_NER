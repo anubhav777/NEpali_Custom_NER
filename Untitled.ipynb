{
 "cells": [
  {
   "cell_type": "code",
   "execution_count": 1,
   "id": "76304862",
   "metadata": {},
   "outputs": [],
   "source": [
    "from bs4 import BeautifulSoup\n",
    "import requests\n",
    "import re\n",
    "import json\n",
    "import nepali_roman as nr"
   ]
  },
  {
   "cell_type": "code",
   "execution_count": 8,
   "id": "ba79aa7b",
   "metadata": {},
   "outputs": [],
   "source": [
    "def nepali_number(word):\n",
    "    ret_word=re.sub(r'[^a-z0-9 ]+','',word)\n",
    "    return_word=re.sub(\"\\s\\s*\" , \" \", ret_word)\n",
    "    return_word=return_word.strip()\n",
    "\n",
    "\n",
    "    return return_word"
   ]
  },
  {
   "cell_type": "code",
   "execution_count": 2,
   "id": "0bb644e4",
   "metadata": {},
   "outputs": [],
   "source": [
    "with open('data.json') as json_file:\n",
    "    data = json.load(json_file)"
   ]
  },
  {
   "cell_type": "code",
   "execution_count": 3,
   "id": "4a2630c0",
   "metadata": {},
   "outputs": [],
   "source": [
    "with open('filtered_data.json') as json_file:\n",
    "    filt_data = json.load(json_file)"
   ]
  },
  {
   "cell_type": "code",
   "execution_count": 7,
   "id": "c7f998ff",
   "metadata": {},
   "outputs": [
    {
     "data": {
      "text/plain": [
       "'jillaa prahari kaaryaalayale motarasaaikala chori garne girohakaa chaara janaalaai pakraau gareko chha chorikaa motarasaaikala bikri gardai gardaa uniharulaai pakraau garieko ho jillaa prahari kaaryaalayale aja yahaan patrakaara sammelanako ayojanaa gari pakraau parekaalaai saarwajanika gareko chha'"
      ]
     },
     "execution_count": 7,
     "metadata": {},
     "output_type": "execute_result"
    }
   ],
   "source": [
    "filt_data[0][0]"
   ]
  },
  {
   "cell_type": "code",
   "execution_count": 9,
   "id": "bc60348b",
   "metadata": {},
   "outputs": [],
   "source": [
    "all_data=[]\n",
    "for i in data:\n",
    "    new_text=nepali_number(i)\n",
    "    all_data.append(new_text)"
   ]
  },
  {
   "cell_type": "code",
   "execution_count": 11,
   "id": "995ec768",
   "metadata": {},
   "outputs": [],
   "source": [
    "all_filt_data=[]\n",
    "for i in filt_data:\n",
    "    new_text=i[0]\n",
    "    all_filt_data.append(new_text)"
   ]
  },
  {
   "cell_type": "code",
   "execution_count": 26,
   "id": "dd74605c",
   "metadata": {},
   "outputs": [],
   "source": [
    "try_dt=[]\n",
    "unfilt_data=[]\n",
    "for i in all_data:\n",
    "    for j in all_filt_data:\n",
    "        if i ==j:\n",
    "            if j not in try_dt:\n",
    "                try_dt.append(j)\n",
    "        else:\n",
    "            unfilt_data.append(i)"
   ]
  },
  {
   "cell_type": "code",
   "execution_count": 18,
   "id": "f15196b0",
   "metadata": {},
   "outputs": [
    {
     "data": {
      "text/plain": [
       "12016"
      ]
     },
     "execution_count": 18,
     "metadata": {},
     "output_type": "execute_result"
    }
   ],
   "source": [
    "len(try_dt)"
   ]
  },
  {
   "cell_type": "code",
   "execution_count": 40,
   "id": "2b39da92",
   "metadata": {},
   "outputs": [
    {
     "data": {
      "text/plain": [
       "12016"
      ]
     },
     "execution_count": 40,
     "metadata": {},
     "output_type": "execute_result"
    }
   ],
   "source": [
    "len(set(all_filt_data))"
   ]
  },
  {
   "cell_type": "code",
   "execution_count": 20,
   "id": "45eb1439",
   "metadata": {},
   "outputs": [],
   "source": [
    "new_dt = list(set(all_filt_data))"
   ]
  },
  {
   "cell_type": "code",
   "execution_count": 38,
   "id": "f0632c24",
   "metadata": {},
   "outputs": [
    {
     "data": {
      "text/plain": [
       "23573"
      ]
     },
     "execution_count": 38,
     "metadata": {},
     "output_type": "execute_result"
    }
   ],
   "source": [
    "len(set(all_data))"
   ]
  },
  {
   "cell_type": "code",
   "execution_count": 27,
   "id": "9ce59f62",
   "metadata": {},
   "outputs": [
    {
     "data": {
      "text/plain": [
       "311423490"
      ]
     },
     "execution_count": 27,
     "metadata": {},
     "output_type": "execute_result"
    }
   ],
   "source": [
    "len(unfilt_data)"
   ]
  },
  {
   "cell_type": "code",
   "execution_count": 51,
   "id": "b15d3d2e",
   "metadata": {},
   "outputs": [],
   "source": [
    "result = list(set(all_data) - set(all_filt_data))"
   ]
  },
  {
   "cell_type": "code",
   "execution_count": 52,
   "id": "4f80cd03",
   "metadata": {},
   "outputs": [
    {
     "data": {
      "text/plain": [
       "11557"
      ]
     },
     "execution_count": 52,
     "metadata": {},
     "output_type": "execute_result"
    }
   ],
   "source": [
    "result.remove('')"
   ]
  },
  {
   "cell_type": "code",
   "execution_count": 43,
   "id": "4080d203",
   "metadata": {},
   "outputs": [],
   "source": [
    "with open('hospital.json',encoding=\"utf8\") as json_file:\n",
    "    hospital = json.load(json_file)\n",
    "    "
   ]
  },
  {
   "cell_type": "code",
   "execution_count": 187,
   "id": "3a91e367",
   "metadata": {},
   "outputs": [],
   "source": [
    "new_arr=[]\n",
    "for i in result:\n",
    "    ins_arr=[i,[]]\n",
    "    new_arr.append(ins_arr)"
   ]
  },
  {
   "cell_type": "code",
   "execution_count": 188,
   "id": "27817f5a",
   "metadata": {},
   "outputs": [],
   "source": [
    "#hospital entity\n",
    "for i in range(len(new_arr)):\n",
    "    for j in hospital:\n",
    "        if j in new_arr[i][0]:\n",
    "             res = [[ele.start(), ele.end() - 1] for ele in re.finditer(rf\"{j}\", new_arr[i][0])]\n",
    "             new_val=[res[0][0],res[0][1],\"Nepal Hospital\"]\n",
    "             if new_val not in new_arr[i]:\n",
    "                 new_arr[i][1].append(new_val)\n",
    "                 \n",
    "            \n",
    "\n",
    "            \n",
    "#              print(res[0])"
   ]
  },
  {
   "cell_type": "code",
   "execution_count": 89,
   "id": "8f8cd723",
   "metadata": {},
   "outputs": [],
   "source": [
    "with open('rom_cities.json',encoding=\"utf8\") as json_file:\n",
    "    rom_cities = json.load(json_file)"
   ]
  },
  {
   "cell_type": "code",
   "execution_count": 96,
   "id": "c6316547",
   "metadata": {},
   "outputs": [],
   "source": [
    "nep_comm =['ko','basne','ma','sthita','ra','ki','baata','maa']"
   ]
  },
  {
   "cell_type": "code",
   "execution_count": 189,
   "id": "ff2d4ddf",
   "metadata": {},
   "outputs": [
    {
     "name": "stdout",
     "output_type": "stream",
     "text": [
      "72\n",
      "72\n",
      "325\n",
      "325\n",
      "325\n",
      "449\n",
      "511\n",
      "511\n",
      "615\n",
      "615\n",
      "1243\n",
      "1243\n",
      "1295\n",
      "1295\n",
      "1351\n",
      "1351\n",
      "1392\n",
      "1490\n",
      "1610\n",
      "1610\n",
      "1696\n",
      "1696\n",
      "1867\n",
      "1867\n",
      "1982\n",
      "1982\n",
      "1995\n",
      "1995\n",
      "2306\n",
      "2306\n",
      "2483\n",
      "2483\n",
      "3664\n",
      "3664\n",
      "3680\n",
      "3680\n",
      "3914\n",
      "3914\n",
      "4077\n",
      "4077\n",
      "4519\n",
      "4519\n",
      "4651\n",
      "4651\n",
      "4884\n",
      "5245\n",
      "5245\n",
      "5771\n",
      "5771\n",
      "5856\n",
      "6530\n",
      "6726\n",
      "6726\n",
      "6781\n",
      "6781\n",
      "7193\n",
      "7193\n",
      "7514\n",
      "7514\n",
      "7582\n",
      "7582\n",
      "7602\n",
      "8303\n",
      "8303\n",
      "8513\n",
      "8513\n",
      "8796\n",
      "8796\n",
      "8813\n",
      "8813\n",
      "8855\n",
      "8874\n",
      "9161\n",
      "9161\n",
      "9306\n",
      "9417\n",
      "9417\n",
      "9488\n",
      "9488\n",
      "9695\n",
      "9695\n",
      "10365\n",
      "10365\n",
      "10564\n",
      "10564\n",
      "10633\n",
      "10633\n",
      "11038\n",
      "11038\n"
     ]
    }
   ],
   "source": [
    "#gaaunpalika nagarpaalika mahaanagarapalika entry\n",
    "for i in range(len(new_arr)):\n",
    "    new_text = new_arr[i][0]\n",
    "    top = new_text.split(\" \")\n",
    "    for j in range(len(top)):\n",
    "        if top[j] == 'gaaunpaalikaa'or top[j] == 'nagrapaalika' or top[j] == 'mahaanagarapaalikaa':\n",
    "            if j > 0:\n",
    "                res = [[ele.start(), ele.end() - 1] for ele in re.finditer(rf\"{top[j-1]} {top[j]}\", new_arr[i][0])]\n",
    "                if len(res) == 1:        \n",
    "                    new_val=[res[0][0],res[0][1],\"gaaunpaalikaa/nagrapaalika/mahaanagarapaalikaa\"]\n",
    "                    if new_val not in new_arr[i]:\n",
    "                         new_arr[i][1].append(new_val)\n",
    "                else:\n",
    "                    for k in range(len(res)):                 \n",
    "                        new_val=[res[k][0],res[k][1],\"gaaunpaalikaa/nagrapaalika/mahaanagarapaalikaa\"]\n",
    "                        if new_val not in new_arr[i]:\n",
    "                             new_arr[i][1].append(new_val)\n",
    "                    print(i)\n",
    "                    "
   ]
  },
  {
   "cell_type": "code",
   "execution_count": 145,
   "id": "92959e29",
   "metadata": {},
   "outputs": [],
   "source": [
    "with open('rom_cities.json',encoding=\"utf8\") as json_file:\n",
    "    rom_cities = json.load(json_file)"
   ]
  },
  {
   "cell_type": "code",
   "execution_count": 191,
   "id": "4b1f719d",
   "metadata": {},
   "outputs": [
    {
     "data": {
      "text/plain": [
       "[[11, 40, 'gaaunpaalikaa/nagrapaalika/mahaanagarapaalikaa'],\n",
       " [0, 9, 'Nepal cities'],\n",
       " [219, 224, 'Nepal cities']]"
      ]
     },
     "execution_count": 191,
     "metadata": {},
     "output_type": "execute_result"
    }
   ],
   "source": [
    "new_arr[15][1]"
   ]
  },
  {
   "cell_type": "code",
   "execution_count": 190,
   "id": "d0ac1128",
   "metadata": {
    "scrolled": false
   },
   "outputs": [
    {
     "name": "stdout",
     "output_type": "stream",
     "text": [
      "[11] [40] 15\n",
      "[60, 174] [83, 194] 16\n",
      "[7] [28] 101\n",
      "[] [] 111\n",
      "[126] [150] 175\n",
      "[126, 65, 163, 115] [150, 77, 175, 124] 175\n",
      "[92] [116] 206\n",
      "[101] [109] 246\n",
      "[101, 111, 159] [109, 120, 168] 246\n",
      "[] [] 315\n",
      "[] [] 350\n",
      "[73, 116, 168] [85, 128, 180] 350\n",
      "[73, 116, 168] [85, 128, 180] 350\n",
      "[] [] 352\n",
      "[3, 185, 105] [25, 207, 136] 449\n",
      "[] [] 466\n",
      "[0, 11] [9, 20] 466\n",
      "[] [] 471\n",
      "[23, 156] [39, 172] 471\n",
      "[23, 156, 10, 92] [39, 172, 19, 101] 471\n",
      "[0] [29] 719\n",
      "[] [] 786\n",
      "[0] [8] 938\n",
      "[0, 82, 167] [8, 87, 172] 938\n",
      "[33] [42] 939\n",
      "[33, 44, 94] [42, 52, 102] 939\n",
      "[] [] 968\n",
      "[] [] 979\n",
      "[] [] 1004\n",
      "[0, 124] [7, 131] 1004\n",
      "[] [] 1069\n",
      "[211, 295] [222, 306] 1069\n",
      "[28] [56] 1228\n",
      "[28, 21, 93] [56, 26, 98] 1228\n",
      "[28, 21, 93] [56, 26, 98] 1228\n",
      "[28, 21, 93, 100, 159] [56, 26, 98, 111, 170] 1228\n",
      "[] [] 1258\n",
      "[] [] 1262\n",
      "[] [] 1311\n",
      "[11, 199] [29, 217] 1392\n",
      "[] [] 1403\n",
      "[17, 163, 128] [26, 172, 135] 1403\n",
      "[0, 88] [22, 110] 1490\n",
      "[11] [40] 1685\n",
      "[] [] 1723\n",
      "[0] [19] 1774\n",
      "[24] [36] 1832\n",
      "[] [] 2047\n",
      "[] [] 2102\n",
      "[0, 120] [9, 129] 2102\n",
      "[] [] 2163\n",
      "[34, 151] [40, 157] 2163\n",
      "[151, 77] [170, 83] 2169\n",
      "[0] [29] 2188\n",
      "[] [] 2255\n",
      "[0, 151] [4, 155] 2255\n",
      "[11] [40] 2278\n",
      "[] [] 2313\n",
      "[] [] 2386\n",
      "[] [] 2417\n",
      "[52, 111] [64, 123] 2417\n",
      "[] [] 2444\n",
      "[14, 118] [22, 126] 2444\n",
      "[0] [19] 2446\n",
      "[] [] 2503\n",
      "[168, 190] [175, 197] 2503\n",
      "[0, 40] [32, 47] 2546\n",
      "[] [] 2548\n",
      "[] [] 2628\n",
      "[25, 278, 314] [34, 287, 323] 2628\n",
      "[] [] 2657\n",
      "[11, 136] [40, 157] 2658\n",
      "[0] [7] 2668\n",
      "[0, 20, 102, 178, 80] [7, 32, 114, 190, 89] 2668\n",
      "[] [] 2750\n",
      "[] [] 2766\n",
      "[] [] 2828\n",
      "[11] [40] 3020\n",
      "[133] [162] 3038\n",
      "[] [] 3064\n",
      "[0, 114, 8] [6, 120, 16] 3064\n",
      "[10] [17] 3066\n",
      "[10, 130, 204] [17, 137, 211] 3066\n",
      "[] [] 3145\n",
      "[12] [44] 3165\n",
      "[] [] 3220\n",
      "[] [] 3224\n",
      "[159, 241] [168, 250] 3224\n",
      "[] [] 3242\n",
      "[0, 138] [7, 145] 3242\n",
      "[26, 167, 217] [48, 190, 244] 3309\n",
      "[] [] 3379\n",
      "[0, 172] [7, 179] 3379\n",
      "[] [] 3444\n",
      "[51, 93] [57, 99] 3444\n",
      "[0] [29] 3612\n",
      "[] [] 3626\n",
      "[11, 93] [22, 104] 3626\n",
      "[] [] 3826\n",
      "[88] [104] 3836\n",
      "[11] [40] 3880\n",
      "[38] [61] 3939\n",
      "[18] [25] 3943\n",
      "[] [] 4058\n",
      "[] [] 4070\n",
      "[] [] 4090\n",
      "[0, 139] [4, 143] 4090\n",
      "[] [] 4105\n",
      "[] [] 4147\n",
      "[9, 40] [18, 49] 4147\n",
      "[] [] 4220\n",
      "[17, 130] [26, 139] 4220\n",
      "[] [] 4236\n",
      "[95, 247] [106, 258] 4236\n",
      "[] [] 4265\n",
      "[11, 74] [22, 85] 4265\n",
      "[] [] 4301\n",
      "[61, 187] [65, 191] 4301\n",
      "[] [] 4305\n",
      "[] [] 4343\n",
      "[] [] 4453\n",
      "[15, 97, 303, 336, 396] [21, 103, 309, 342, 402] 4453\n",
      "[] [] 4601\n",
      "[46, 193] [58, 205] 4601\n",
      "[] [] 4603\n",
      "[100, 136] [109, 145] 4603\n",
      "[] [] 4624\n",
      "[] [] 4639\n",
      "[51, 144] [59, 152] 4639\n",
      "[] [] 4682\n",
      "[] [] 4766\n",
      "[0, 69] [9, 78] 4766\n",
      "[] [] 5023\n",
      "[132] [157] 5029\n",
      "[] [] 5079\n",
      "[101, 139] [113, 151] 5079\n",
      "[94] [103] 5107\n",
      "[94, 105, 420] [103, 116, 431] 5107\n",
      "[] [] 5246\n",
      "[0, 74] [7, 81] 5246\n",
      "[11] [40] 5262\n",
      "[] [] 5292\n",
      "[] [] 5311\n",
      "[14, 221, 195] [26, 233, 202] 5311\n",
      "[] [] 5372\n",
      "[0] [27] 5397\n",
      "[11] [40] 5432\n",
      "[] [] 5440\n",
      "[] [] 5461\n",
      "[] [] 5523\n",
      "[78, 114] [90, 126] 5523\n",
      "[] [] 5587\n",
      "[25, 198] [31, 204] 5587\n",
      "[156] [188] 5667\n",
      "[11] [40] 5674\n",
      "[] [] 5725\n",
      "[30, 116] [37, 123] 5725\n",
      "[] [] 5748\n",
      "[] [] 5788\n",
      "[] [] 5797\n",
      "[0, 146] [8, 154] 5797\n",
      "[] [] 5824\n",
      "[0, 528, 24] [19, 547, 40] 5856\n",
      "[] [] 5861\n",
      "[] [] 5894\n",
      "[19, 70, 135] [30, 81, 146] 5894\n",
      "[19, 70, 135] [30, 81, 146] 5894\n",
      "[11] [40] 5902\n",
      "[96] [114] 5916\n",
      "[96, 0, 11] [114, 9, 20] 5916\n",
      "[] [] 5932\n",
      "[0, 11] [9, 20] 5932\n",
      "[] [] 5969\n",
      "[0, 22] [9, 34] 5993\n",
      "[0, 22, 99, 160] [9, 34, 105, 166] 5993\n",
      "[] [] 5998\n",
      "[0, 66, 31] [7, 73, 39] 5998\n",
      "[73] [92] 6034\n",
      "[73, 266] [92, 275] 6034\n",
      "[] [] 6083\n",
      "[] [] 6096\n",
      "[19, 110] [27, 118] 6096\n",
      "[] [] 6106\n",
      "[9] [31] 6135\n",
      "[489, 0] [508, 16] 6211\n",
      "[9] [27] 6233\n",
      "[9, 73, 162] [27, 82, 171] 6233\n",
      "[] [] 6317\n",
      "[9, 82] [17, 90] 6317\n",
      "[] [] 6455\n",
      "[7, 105] [16, 114] 6455\n",
      "[0, 108] [21, 129] 6530\n",
      "[] [] 6641\n",
      "[100, 246] [107, 253] 6641\n",
      "[] [] 6643\n",
      "[11] [40] 6650\n",
      "[] [] 6748\n",
      "[9, 52] [16, 59] 6748\n",
      "[64] [86] 6793\n",
      "[64, 0, 139, 51] [86, 9, 148, 62] 6793\n",
      "[] [] 7101\n",
      "[] [] 7137\n",
      "[11, 68, 103] [20, 77, 112] 7137\n",
      "[11, 68, 103] [20, 77, 112] 7137\n",
      "[121, 84] [140, 93] 7367\n",
      "[51] [78] 7369\n",
      "[] [] 7432\n",
      "[76, 154] [81, 159] 7432\n",
      "[] [] 7629\n",
      "[0, 96] [11, 107] 7629\n",
      "[] [] 7685\n",
      "[0, 237] [5, 242] 7685\n",
      "[11] [40] 7711\n",
      "[11, 0, 154, 231] [40, 9, 163, 240] 7711\n",
      "[11, 0, 154, 231] [40, 9, 163, 240] 7711\n",
      "[] [] 7899\n",
      "[] [] 7999\n",
      "[0, 130, 227] [8, 138, 235] 7999\n",
      "[0, 130, 227] [8, 138, 235] 7999\n",
      "[11] [40] 8050\n",
      "[] [] 8054\n",
      "[296, 234] [319, 245] 8223\n",
      "[] [] 8356\n",
      "[18, 156] [24, 162] 8356\n",
      "[107] [139] 8477\n",
      "[107, 188, 302] [139, 199, 313] 8477\n",
      "[] [] 8485\n",
      "[0, 178] [7, 185] 8485\n",
      "[] [] 8621\n",
      "[] [] 8624\n",
      "[181, 254] [190, 263] 8624\n",
      "[] [] 8631\n",
      "[54, 306] [66, 318] 8631\n",
      "[65] [84] 8810\n",
      "[0, 137] [17, 154] 8855\n",
      "[24, 63, 139] [44, 84, 160] 8874\n",
      "[] [] 8902\n",
      "[84, 200] [90, 206] 8902\n",
      "[] [] 8908\n",
      "[] [] 9095\n",
      "[10, 100] [17, 107] 9095\n",
      "[] [] 9153\n",
      "[0, 57] [8, 65] 9153\n",
      "[] [] 9188\n",
      "[67, 178] [82, 193] 9188\n",
      "[] [] 9200\n",
      "[28, 125, 233, 17] [53, 149, 255, 26] 9252\n",
      "[28, 125, 233, 17, 72, 168, 274, 116] [53, 149, 255, 26, 81, 177, 283, 123] 9252\n",
      "[28, 125, 233, 17, 72, 168, 274, 116, 179] [53, 149, 255, 26, 81, 177, 283, 123, 187] 9252\n",
      "[10, 229] [34, 253] 9306\n",
      "[] [] 9410\n",
      "[47, 121] [56, 130] 9410\n",
      "[] [] 9441\n",
      "[11] [40] 9542\n",
      "[] [] 9590\n",
      "[46, 57] [55, 66] 9590\n",
      "[] [] 9612\n",
      "[273] [298] 9639\n",
      "[273, 221, 396] [298, 226, 401] 9639\n",
      "[] [] 9705\n",
      "[0, 11] [9, 20] 9705\n",
      "[] [] 9714\n",
      "[0, 46] [9, 55] 9714\n",
      "[] [] 9784\n",
      "[12, 141] [15, 144] 9784\n",
      "[11] [40] 9823\n",
      "[20] [38] 9833\n",
      "[11, 124] [40, 147] 9914\n",
      "[11] [40] 9936\n",
      "[70, 143] [81, 148] 10019\n",
      "[70, 143, 222, 244] [81, 148, 228, 250] 10019\n",
      "[] [] 10082\n",
      "[9, 157, 199] [17, 165, 207] 10082\n",
      "[] [] 10147\n",
      "[80, 288] [109, 320] 10156\n",
      "[] [] 10247\n",
      "[191] [223] 10372\n",
      "[] [] 10376\n",
      "[0, 22] [5, 27] 10376\n",
      "[] [] 10412\n",
      "[] [] 10435\n",
      "[0, 190, 133] [7, 197, 144] 10435\n",
      "[] [] 10518\n",
      "[0, 11] [9, 20] 10518\n",
      "[183] [207] 10692\n",
      "[] [] 10722\n",
      "[] [] 10728\n",
      "[111, 150] [117, 156] 10728\n",
      "[28] [47] 10737\n",
      "[] [] 10849\n",
      "[222, 305] [228, 311] 10849\n",
      "[53] [62] 10878\n",
      "[53, 152, 201] [62, 159, 208] 10878\n",
      "[] [] 10954\n",
      "[11] [40] 10995\n",
      "[11] [40] 11010\n",
      "[11, 0, 135] [40, 9, 144] 11010\n",
      "[21] [45] 11019\n",
      "[21, 86, 187, 237, 310] [45, 89, 190, 240, 313] 11019\n",
      "[21, 86, 187, 237, 310, 145, 315] [45, 89, 190, 240, 313, 152, 322] 11019\n",
      "[21, 86, 187, 237, 310, 145, 315] [45, 89, 190, 240, 313, 152, 322] 11019\n",
      "[21, 86, 187, 237, 310, 145, 315] [45, 89, 190, 240, 313, 152, 322] 11019\n",
      "[21, 86, 187, 237, 310, 145, 315, 274] [45, 89, 190, 240, 313, 152, 322, 284] 11019\n",
      "[] [] 11135\n",
      "[55, 222] [64, 231] 11135\n",
      "[] [] 11214\n",
      "[37] [63] 11367\n",
      "[37, 0, 196, 185] [63, 13, 209, 194] 11367\n",
      "[] [] 11402\n",
      "[] [] 11442\n",
      "[] [] 11465\n",
      "[33, 235] [40, 242] 11465\n",
      "[] [] 11509\n",
      "[0, 132] [9, 141] 11509\n"
     ]
    }
   ],
   "source": [
    "#cities entity\n",
    "try_ar=[]\n",
    "for i in range(len(new_arr)):\n",
    "    new_text = new_arr[i][0]\n",
    "    top = new_text.split(\" \")\n",
    "    \n",
    "    for j in range(len(top)):\n",
    "        \n",
    "        if top[j] in rom_cities:\n",
    "            if j != (len(top)-1):\n",
    "                if top[j+1] != 'gaaunpaalikaa' and top[j+1] != 'nagrapaalika' and top[j+1] != 'mahaanagarapaalikaa':\n",
    "                     res = [[ele.start(), ele.end() - 1] for ele in re.finditer(rf\"{top[j]}\", new_arr[i][0])] \n",
    "                     if len(res) == 1:        \n",
    "                        new_val=[res[0][0],res[0][1],\"Nepal cities\"]\n",
    "                        if new_val not in new_arr[i]:\n",
    "                             new_arr[i][1].append(new_val)\n",
    "                     else:\n",
    "                        start = []\n",
    "                        end = []\n",
    "                        for l in range(len(new_arr[i][1])):\n",
    "                            start.append(new_arr[i][1][l][0])\n",
    "                            end.append(new_arr[i][1][l][1])\n",
    "                        print(start,end,i)  \n",
    "                        for k in range(len(res)):                 \n",
    "                            new_val=[res[k][0],res[k][1],\"Nepal cities\"]\n",
    "                            if res[k][0] not in start and res[k][1] not in end:\n",
    "                                if new_val not in new_arr[i]:\n",
    "                                     new_arr[i][1].append(new_val)\n",
    "                          "
   ]
  },
  {
   "cell_type": "code",
   "execution_count": 174,
   "id": "7d04806f",
   "metadata": {},
   "outputs": [
    {
     "data": {
      "text/plain": [
       "['lalitapura lalitapura mahaanagarapaalikaa harisiddhisthita taaraa intaabhattaamaa basne salyaanaki warsiyaa baalikaalaai pataka pataka jabarajasti karanai gareko abhiyogamaa sohi intaabhattaamaa basne rolpaakaa warsiya kamala pariyaaralaai sanibaara diunso praharile pakraau gareko chha',\n",
       " [[11, 40, 'gaaunpaalikaa/nagrapaalika/mahaanagarapaalikaa'],\n",
       "  [0, 9, 'Nepal cities'],\n",
       "  [11, 20, 'Nepal cities'],\n",
       "  [219, 224, 'Nepal cities']]]"
      ]
     },
     "execution_count": 174,
     "metadata": {},
     "output_type": "execute_result"
    }
   ],
   "source": [
    "new_arr[15]"
   ]
  },
  {
   "cell_type": "code",
   "execution_count": null,
   "id": "256547e9",
   "metadata": {},
   "outputs": [],
   "source": []
  }
 ],
 "metadata": {
  "kernelspec": {
   "display_name": "Python 3",
   "language": "python",
   "name": "python3"
  },
  "language_info": {
   "codemirror_mode": {
    "name": "ipython",
    "version": 3
   },
   "file_extension": ".py",
   "mimetype": "text/x-python",
   "name": "python",
   "nbconvert_exporter": "python",
   "pygments_lexer": "ipython3",
   "version": "3.7.10"
  }
 },
 "nbformat": 4,
 "nbformat_minor": 5
}
